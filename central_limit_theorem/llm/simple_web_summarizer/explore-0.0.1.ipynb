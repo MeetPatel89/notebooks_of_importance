{
 "cells": [
  {
   "cell_type": "code",
   "execution_count": 1,
   "metadata": {},
   "outputs": [],
   "source": [
    "import os\n",
    "\n",
    "from unstructured.partition.pdf import partition_pdf"
   ]
  },
  {
   "cell_type": "code",
   "execution_count": 21,
   "metadata": {},
   "outputs": [
    {
     "data": {
      "text/plain": [
       "array([[[ 1,  2,  3],\n",
       "        [ 4,  5,  6],\n",
       "        [ 7,  8,  9]],\n",
       "\n",
       "       [[10, 11, 12],\n",
       "        [13, 99, 15],\n",
       "        [16, 17, 18]]])"
      ]
     },
     "execution_count": 21,
     "metadata": {},
     "output_type": "execute_result"
    }
   ],
   "source": [
    "import numpy as np\n",
    "\n",
    "a = [1, 2, 3]\n",
    "b = [4, 5, 6]\n",
    "c = [7, 8, 9]\n",
    "d = [10, 11, 12]\n",
    "e = [13, 99, 15]\n",
    "f = [16, 17, 18]\n",
    "\n",
    "given_arr = np.array([[a, b, c], [d, e, f]])\n",
    "\n",
    "given_arr"
   ]
  },
  {
   "cell_type": "code",
   "execution_count": 16,
   "metadata": {},
   "outputs": [
    {
     "data": {
      "text/plain": [
       "(6, 3)"
      ]
     },
     "execution_count": 16,
     "metadata": {},
     "output_type": "execute_result"
    }
   ],
   "source": [
    "given_arr.shape"
   ]
  },
  {
   "cell_type": "code",
   "execution_count": 3,
   "metadata": {},
   "outputs": [],
   "source": [
    "a = np.array(\n",
    "    [\n",
    "        [1, 2, 3],\n",
    "        [4, 5, 10],\n",
    "        [3, 2, 6],\n",
    "    ]\n",
    ")\n",
    "b = np.array([1, 2, 3])"
   ]
  },
  {
   "cell_type": "code",
   "execution_count": 9,
   "metadata": {},
   "outputs": [
    {
     "data": {
      "text/plain": [
       "array([ 3.74165739, 11.87434209,  7.        ])"
      ]
     },
     "execution_count": 9,
     "metadata": {},
     "output_type": "execute_result"
    }
   ],
   "source": [
    "np.linalg.norm(a, axis=1)"
   ]
  },
  {
   "cell_type": "code",
   "execution_count": null,
   "metadata": {},
   "outputs": [],
   "source": []
  },
  {
   "cell_type": "code",
   "execution_count": null,
   "metadata": {},
   "outputs": [],
   "source": [
    "pdf_path = \"D:\\projects\\machine_learning_workspace\\ml-boilerplate\\dataset\\repository\\PDFs\"\n",
    "\n",
    "pdf_dir = r\"D:\\projects\\machine_learning_workspace\\ml-boilerplate\\dataset\\repository\\PDFs\"\n",
    "# pdf_file = \"logistic_regression_stanford.pdf\"\n",
    "pdf_file = \"genome_annotation.pdf\"\n",
    "pdf_path = os.path.join(pdf_dir, pdf_file)\n",
    "elements = partition_pdf(pdf_path, strategy=\"hi_res\")"
   ]
  },
  {
   "cell_type": "code",
   "execution_count": null,
   "metadata": {},
   "outputs": [],
   "source": [
    "lst = []\n",
    "for i, elem in enumerate(elements):\n",
    "    lst.append(elem.category)\n",
    "    print(\"--------------------------------\")\n",
    "    print(elem.category, elem.text)\n",
    "    print(\"--------------------------------\")\n"
   ]
  },
  {
   "cell_type": "code",
   "execution_count": null,
   "metadata": {},
   "outputs": [],
   "source": [
    "set(lst)"
   ]
  },
  {
   "cell_type": "code",
   "execution_count": null,
   "metadata": {},
   "outputs": [],
   "source": [
    "# 1. Parse PDF\n",
    "elements = partition_pdf(\"document.pdf\")  # Handles text, tables, math as separate blocks\n",
    "\n",
    "# 2. Preprocess & Chunk\n",
    "chunks, metadata = [], []\n",
    "for elem in elements:\n",
    "    if elem.category == \"Table\":\n",
    "        content = elem.text_as_markdown\n",
    "    elif elem.category == \"Math\":\n",
    "        content = elem.text  # Keep as LaTeX if possible\n",
    "    else:\n",
    "        content = elem.text\n",
    "    chunks.append(content)\n",
    "    metadata.append(\n",
    "        {\n",
    "            \"type\": elem.category,\n",
    "            \"page\": elem.metadata.page_number,\n",
    "            \"section\": elem.metadata.section_title,\n",
    "        }\n",
    "    )\n",
    "\n",
    "# 3. Embed\n",
    "model = SentenceTransformer(\"all-mpnet-base-v2\")\n",
    "embeddings = model.encode(chunks, show_progress_bar=True)\n",
    "\n",
    "# 4. Store embeddings and metadata in your vector DB\n"
   ]
  },
  {
   "cell_type": "markdown",
   "metadata": {},
   "source": [
    "#### Instant gratification AI project"
   ]
  },
  {
   "cell_type": "code",
   "execution_count": null,
   "metadata": {},
   "outputs": [],
   "source": [
    "import json\n",
    "\n",
    "from IPython.display import HTML, Markdown, display\n",
    "\n",
    "from ml_boilerplate_module.llm.simple_web_summarizer import ollama_summarize, openai_summarize"
   ]
  },
  {
   "cell_type": "code",
   "execution_count": null,
   "metadata": {},
   "outputs": [],
   "source": [
    "url = \"https://huggingface.co/\"\n",
    "llm_output_markdown = openai_summarize(url, \"markdown\")\n",
    "llm_output_json = openai_summarize(url, \"json\")\n",
    "llm_output_html = openai_summarize(url, \"html\")\n",
    "llm_output_text = openai_summarize(url, \"text\")\n",
    "llm_output_yaml = openai_summarize(url, \"yaml\")"
   ]
  },
  {
   "cell_type": "code",
   "execution_count": null,
   "metadata": {},
   "outputs": [],
   "source": [
    "display(Markdown(llm_output_markdown))"
   ]
  },
  {
   "cell_type": "code",
   "execution_count": null,
   "metadata": {},
   "outputs": [],
   "source": [
    "llm_output_markdown = llm_output_markdown.split(\"```markdown\")[1].split(\"```\")[0].strip()\n",
    "display(Markdown(llm_output_markdown))"
   ]
  },
  {
   "cell_type": "code",
   "execution_count": null,
   "metadata": {},
   "outputs": [],
   "source": [
    "llm_output_html = llm_output_html.split(\"```html\")[1].split(\"```\")[0].strip()\n",
    "HTML(llm_output_html)"
   ]
  },
  {
   "cell_type": "code",
   "execution_count": null,
   "metadata": {},
   "outputs": [],
   "source": [
    "llm_output_json = llm_output_json.split(\"```json\")[1].split(\"```\")[0].strip()\n",
    "llm_output_json = json.loads(llm_output_json)\n",
    "llm_output_json"
   ]
  },
  {
   "cell_type": "markdown",
   "metadata": {},
   "source": [
    "#### Text Summarization using Ollama"
   ]
  },
  {
   "cell_type": "code",
   "execution_count": null,
   "metadata": {},
   "outputs": [],
   "source": [
    "llm_output_markdown = ollama_summarize(url, \"markdown\")\n",
    "llm_output_json = ollama_summarize(url, \"json\")\n",
    "llm_output_html = ollama_summarize(url, \"html\")\n",
    "llm_output_text = ollama_summarize(url, \"text\")\n",
    "llm_output_yaml = ollama_summarize(url, \"yaml\")"
   ]
  },
  {
   "cell_type": "code",
   "execution_count": null,
   "metadata": {},
   "outputs": [],
   "source": [
    "llm_output_markdown = llm_output_markdown.split(\"```markdown\")[1].split(\"```\")[0].strip()\n",
    "display(Markdown(llm_output_markdown))"
   ]
  },
  {
   "cell_type": "code",
   "execution_count": null,
   "metadata": {},
   "outputs": [],
   "source": [
    "Markdown(llm_output_markdown)"
   ]
  },
  {
   "cell_type": "code",
   "execution_count": null,
   "metadata": {},
   "outputs": [],
   "source": [
    "llm_output_html = llm_output_html.split(\"```html\")[1].split(\"```\")[0].strip()\n",
    "HTML(llm_output_html)"
   ]
  },
  {
   "cell_type": "code",
   "execution_count": null,
   "metadata": {},
   "outputs": [],
   "source": [
    "HTML(llm_output_html)"
   ]
  },
  {
   "cell_type": "code",
   "execution_count": null,
   "metadata": {},
   "outputs": [],
   "source": [
    "llm_output_json = llm_output_json.split(\"```json\")[1].split(\"```\")[0].strip()\n",
    "llm_output_json = json.loads(llm_output_json)\n",
    "llm_output_json"
   ]
  },
  {
   "cell_type": "code",
   "execution_count": null,
   "metadata": {},
   "outputs": [],
   "source": [
    "import gradio as gr"
   ]
  },
  {
   "cell_type": "code",
   "execution_count": null,
   "metadata": {},
   "outputs": [],
   "source": [
    "def image_classifier(inp):\n",
    "    return {\"cat\": 0.3, \"dog\": 0.7}\n",
    "\n",
    "\n",
    "demo = gr.Interface(fn=image_classifier, inputs=\"image\", outputs=\"label\")\n",
    "demo.launch()"
   ]
  }
 ],
 "metadata": {
  "kernelspec": {
   "display_name": ".venv",
   "language": "python",
   "name": "python3"
  },
  "language_info": {
   "codemirror_mode": {
    "name": "ipython",
    "version": 3
   },
   "file_extension": ".py",
   "mimetype": "text/x-python",
   "name": "python",
   "nbconvert_exporter": "python",
   "pygments_lexer": "ipython3",
   "version": "3.12.2"
  }
 },
 "nbformat": 4,
 "nbformat_minor": 2
}
