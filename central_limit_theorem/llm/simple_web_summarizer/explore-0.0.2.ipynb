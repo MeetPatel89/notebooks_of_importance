{
 "cells": [
  {
   "cell_type": "code",
   "execution_count": 10,
   "metadata": {},
   "outputs": [],
   "source": [
    "import json\n",
    "\n",
    "from ml_boilerplate_module.llm.summarize import summarize_website\n",
    "\n",
    "url = \"https://huggingface.co/\""
   ]
  },
  {
   "cell_type": "code",
   "execution_count": 2,
   "metadata": {},
   "outputs": [
    {
     "name": "stdout",
     "output_type": "stream",
     "text": [
      "Using OpenAI model: gpt-4o-mini\n",
      "```markdown\n",
      "# Hugging Face – The AI Community Building the Future\n",
      "Hugging Face is a collaborative platform where the machine learning community can share, explore, and develop machine learning models, datasets, and applications.\n",
      "\n",
      "## Key Features\n",
      "- **Models**: Access to over 1 million machine learning models, including trending options and state-of-the-art architectures.\n",
      "- **Datasets**: A repository of over 250,000 datasets for various machine learning tasks.\n",
      "- **Spaces**: A platform to run and showcase applications powered by machine learning, with thousands of applications available.\n",
      "- **Open Source**: Contributes to the foundation of ML tooling in collaboration with the community, including libraries for transformers, tokenizer tools, and more.\n",
      "\n",
      "## Main Content\n",
      "Hugging Face serves as a hub for machine learning practitioners, offering tools and services to accelerate the development and deployment of AI applications. Users can host and collaborate on models and datasets while also taking advantage of paid compute and enterprise solutions. The site features extensive resources for both individuals and organizations, including enterprise-grade capabilities, to support a wide range of machine learning projects. The community aspect fosters collaboration and sharing of innovations, positioning Hugging Face at the forefront of AI development.\n",
      "```\n"
     ]
    }
   ],
   "source": [
    "result = summarize_website(url, provider=\"openai\", fmt=\"markdown\")\n",
    "print(result)"
   ]
  },
  {
   "cell_type": "code",
   "execution_count": 3,
   "metadata": {},
   "outputs": [
    {
     "data": {
      "text/markdown": [
       "# Hugging Face – The AI Community Building the Future\n",
       "Hugging Face is a collaborative platform where the machine learning community can share, explore, and develop machine learning models, datasets, and applications.\n",
       "\n",
       "## Key Features\n",
       "- **Models**: Access to over 1 million machine learning models, including trending options and state-of-the-art architectures.\n",
       "- **Datasets**: A repository of over 250,000 datasets for various machine learning tasks.\n",
       "- **Spaces**: A platform to run and showcase applications powered by machine learning, with thousands of applications available.\n",
       "- **Open Source**: Contributes to the foundation of ML tooling in collaboration with the community, including libraries for transformers, tokenizer tools, and more.\n",
       "\n",
       "## Main Content\n",
       "Hugging Face serves as a hub for machine learning practitioners, offering tools and services to accelerate the development and deployment of AI applications. Users can host and collaborate on models and datasets while also taking advantage of paid compute and enterprise solutions. The site features extensive resources for both individuals and organizations, including enterprise-grade capabilities, to support a wide range of machine learning projects. The community aspect fosters collaboration and sharing of innovations, positioning Hugging Face at the forefront of AI development."
      ],
      "text/plain": [
       "<IPython.core.display.Markdown object>"
      ]
     },
     "metadata": {},
     "output_type": "display_data"
    }
   ],
   "source": [
    "from IPython.display import Markdown, display\n",
    "\n",
    "llm_output_markdown = result.split(\"```markdown\")[1].split(\"```\")[0].strip()\n",
    "display(Markdown(llm_output_markdown))"
   ]
  },
  {
   "cell_type": "code",
   "execution_count": 4,
   "metadata": {},
   "outputs": [],
   "source": [
    "# # gpt-4.1\n",
    "# result4 = summarize_website(url, provider=\"openai\", fmt=\"markdown\", model=\"gpt-4.1\")\n",
    "# print(result4)"
   ]
  },
  {
   "cell_type": "code",
   "execution_count": 5,
   "metadata": {},
   "outputs": [
    {
     "name": "stdout",
     "output_type": "stream",
     "text": [
      "Using Ollama model: llama3.2\n",
      "```json\n",
      "{\n",
      "    \"title\": \"Hugging Face - The AI community building the future\",\n",
      "    \"description\": \"The platform where the machine learning community collaborates on models, datasets, and applications.\",\n",
      "    \"features\": [\n",
      "        {\"name\": \"Collaboration Platform\", \"description\": \"Host and collaborate on unlimited public models, datasets and applications.\"},\n",
      "        {\"name\": \"Open Source Stack\", \"description\": \"Explore all modalities (text, image, video, audio or even 3D) and build your portfolio\"},\n",
      "        {\"name\": \"Advanced Compute Solutions\", \"description\": \"Deploy on optimized inference endpoints or update Spaces applications to a GPU in a few clicks\"}\n",
      "    ],\n",
      "    \"summary\": \"Hugging Face is an AI community building platform where users can collaborate on models, datasets, and applications. It offers collaboration features, open source stack, advanced compute solutions and a wide range of models and datasets.\"\n",
      "}\n",
      "```\n"
     ]
    }
   ],
   "source": [
    "result2 = summarize_website(url, provider=\"ollama\", fmt=\"json\")\n",
    "print(result2)"
   ]
  },
  {
   "cell_type": "code",
   "execution_count": 7,
   "metadata": {},
   "outputs": [
    {
     "data": {
      "text/plain": [
       "{'title': 'Hugging Face - The AI community building the future',\n",
       " 'description': 'The platform where the machine learning community collaborates on models, datasets, and applications.',\n",
       " 'features': [{'name': 'Collaboration Platform',\n",
       "   'description': 'Host and collaborate on unlimited public models, datasets and applications.'},\n",
       "  {'name': 'Open Source Stack',\n",
       "   'description': 'Explore all modalities (text, image, video, audio or even 3D) and build your portfolio'},\n",
       "  {'name': 'Advanced Compute Solutions',\n",
       "   'description': 'Deploy on optimized inference endpoints or update Spaces applications to a GPU in a few clicks'}],\n",
       " 'summary': 'Hugging Face is an AI community building platform where users can collaborate on models, datasets, and applications. It offers collaboration features, open source stack, advanced compute solutions and a wide range of models and datasets.'}"
      ]
     },
     "execution_count": 7,
     "metadata": {},
     "output_type": "execute_result"
    }
   ],
   "source": [
    "llm_output_json = result2.split(\"```json\")[1].split(\"```\")[0].strip()\n",
    "llm_output_json = json.loads(llm_output_json)\n",
    "llm_output_json"
   ]
  },
  {
   "cell_type": "code",
   "execution_count": 8,
   "metadata": {},
   "outputs": [
    {
     "name": "stdout",
     "output_type": "stream",
     "text": [
      "Using Ollama model: llama3.2\n",
      "```markdown\n",
      "# Hugging Face - The AI community building the future.\n",
      "Brief description of the website's main purpose.\n",
      "\n",
      "## Key Features\n",
      "- Platform for collaboration on models, datasets, and applications\n",
      "- Host and collaborate on unlimited public models, datasets, and applications\n",
      "- Optimize inference endpoints or update Spaces applications to a GPU in a few clicks\n",
      "\n",
      "## Main Content\n",
      "The Hugging Face platform provides a collaborative space for the machine learning community to build, discover, and share AI applications. The website features:\n",
      "- A vast library of 1M+ models and 250k+ datasets, including text generation inference tools and reinforcement learning libraries.\n",
      "- An open-source stack that allows users to accelerate their ML projects with optimized compute resources.\n",
      "- A platform for building and sharing portfolios, as well as a feature to accelerate AI training on GPUs or TPUs.\n",
      "\n",
      "## Community\n",
      "The website highlights the collaboration and community aspects of Hugging Face, featuring various organizations, companies, and individuals using the platform.\n"
     ]
    }
   ],
   "source": [
    "result3 = summarize_website(url, provider=\"ollama\", fmt=\"markdown\")\n",
    "print(result3)"
   ]
  },
  {
   "cell_type": "code",
   "execution_count": 9,
   "metadata": {},
   "outputs": [
    {
     "data": {
      "text/markdown": [
       "# Hugging Face - The AI community building the future.\n",
       "Brief description of the website's main purpose.\n",
       "\n",
       "## Key Features\n",
       "- Platform for collaboration on models, datasets, and applications\n",
       "- Host and collaborate on unlimited public models, datasets, and applications\n",
       "- Optimize inference endpoints or update Spaces applications to a GPU in a few clicks\n",
       "\n",
       "## Main Content\n",
       "The Hugging Face platform provides a collaborative space for the machine learning community to build, discover, and share AI applications. The website features:\n",
       "- A vast library of 1M+ models and 250k+ datasets, including text generation inference tools and reinforcement learning libraries.\n",
       "- An open-source stack that allows users to accelerate their ML projects with optimized compute resources.\n",
       "- A platform for building and sharing portfolios, as well as a feature to accelerate AI training on GPUs or TPUs.\n",
       "\n",
       "## Community\n",
       "The website highlights the collaboration and community aspects of Hugging Face, featuring various organizations, companies, and individuals using the platform."
      ],
      "text/plain": [
       "<IPython.core.display.Markdown object>"
      ]
     },
     "metadata": {},
     "output_type": "display_data"
    }
   ],
   "source": [
    "llm_output_markdown = result3.split(\"```markdown\")[1].split(\"```\")[0].strip()\n",
    "display(Markdown(llm_output_markdown))"
   ]
  },
  {
   "cell_type": "code",
   "execution_count": null,
   "metadata": {},
   "outputs": [],
   "source": []
  }
 ],
 "metadata": {
  "kernelspec": {
   "display_name": ".venv",
   "language": "python",
   "name": "python3"
  },
  "language_info": {
   "codemirror_mode": {
    "name": "ipython",
    "version": 3
   },
   "file_extension": ".py",
   "mimetype": "text/x-python",
   "name": "python",
   "nbconvert_exporter": "python",
   "pygments_lexer": "ipython3",
   "version": "3.12.2"
  }
 },
 "nbformat": 4,
 "nbformat_minor": 2
}
